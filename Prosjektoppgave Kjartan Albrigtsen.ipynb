{
 "cells": [
  {
   "cell_type": "markdown",
   "id": "37115a5c-c56f-44bd-879d-af01e8b98fd6",
   "metadata": {},
   "source": [
    "Jeg har valgt å løse den ferdigdefinerte oppgaven som er gitt.\n",
    "\n",
    "Forutsetning for oppgaven er at du har filen support_uke_24.xlsx i samme mappe som denne notebooken.\n",
    "\n",
    "I flere av oppgavene gjentar jeg samme prosess. Der har jeg valgt å ikke kommentere like grundig på de påfølgende stedene, \n",
    "men henviser til kommentarene ovenfor. I et virkelig program ville jeg kanskje vært mer forsiktig med det, da de ikke nødvendigvis\n",
    "skal leses/brukes i rekkefølge, men i denne oppgaven forutsetter jeg at den leses i rekkefølge, og da blir det mindre \n",
    "repitisjon og kanskje litt enklere å gjennomgå. \n",
    "Jeg forutsetter at man kjører deloppgavene i rekkefølge. I enkelte deloppgaver har jeg lest inn filen hver gang, i andre regner jeg med at du har kjørt dette i rekkefølge, og dermed lest inn filen tidligere. I et program som skal brukes, og man ikke hvet hvilke andre ting som er kjørt før, bør man nok hente inn dette hver gang, men for denne oppgaven gjorde jeg det sånn. "
   ]
  },
  {
   "cell_type": "markdown",
   "id": "0f2f441b-4f2f-432d-99ce-da7116e26bc4",
   "metadata": {},
   "source": [
    "Del a) Skriv et program som leser inn filen ‘support_uke_24.xlsx’ og lagrer data fra kolonne 1\n",
    "i en array med variablenavn ‘u_dag’, dataen i kolonne 2 lagres i arrayen ‘kl_slett’, data i\n",
    "kolonne 3 lagres i arrayen ‘varighet’ og dataen i kolonne 4 lagres i arrayen ‘score’\n",
    ". Merk:\n",
    "filen ‘support_uke_24.xlsx’ må ligge i samme mappe som Python-programmet ditt."
   ]
  },
  {
   "cell_type": "code",
   "execution_count": 108,
   "id": "41335f78-fe47-4e93-ab6e-7a661a109be7",
   "metadata": {},
   "outputs": [
    {
     "name": "stdout",
     "output_type": "stream",
     "text": [
      "Denne deloppgaven skriver ikke noe resultat (bare denne infoteksten) til skjerm - den leser bare inn fra fil\n"
     ]
    }
   ],
   "source": [
    "import pandas as pd # Jeg henter Pandas for kunne hente fra filen senere\n",
    "\n",
    "# Lager en variabel for filnavnet, slik at jeg kan bruke det senere (ikke nødvendig)\n",
    "file_path = 'support_uke_24.xlsx'\n",
    "\n",
    "# Bruker Pandas-funksjonen read_excel for å hente filen\n",
    "df = pd.read_excel(file_path) # Her kunne jeg evt ha skrevet inn filnavnet direkte\n",
    "\n",
    "# Lagre dataene i separate arrays\n",
    "u_dag = df.iloc[:, 0].tolist()  # Kolonne 1 legges i arrayen u_dag\n",
    "kl_slett = df.iloc[:, 1].tolist()  # Kolonne 2 legges i arrayen kl_slett\n",
    "varighet = df.iloc[:, 2].tolist()  # Kolonne 3 legges i arrayen varighet\n",
    "score = df.iloc[:, 3].tolist()  # Kolonne 4 legges i arrayen score\n",
    "\n",
    "# Test av kode hittil - ikke del av besvarelse - kommenteres ut ved innlevering\n",
    "# antall_test = 3 # lager en variabel for hvor mange linjer fra filen som skal skrives ut i testen\n",
    "# print(\"u_dag:\", u_dag[:antall_test])  # Skriv ut de første verdiene fra u_dag\n",
    "# print(\"kl_slett:\", kl_slett[:antall_test])  # Skriv ut de første verdiene fra kl_slett\n",
    "# print(\"varighet:\", varighet[:antall_test])  # Skriv ut de første verdiene fra varighet\n",
    "# print(\"score:\", score[:antall_test])  # Skriv ut de første verdiene fra score\n",
    "print(\"Denne deloppgaven skriver ikke noe resultat (bare denne infoteksten) til skjerm - den leser bare inn fra fil\")"
   ]
  },
  {
   "cell_type": "markdown",
   "id": "02229223-5ef7-47df-97ab-fc32debc2560",
   "metadata": {},
   "source": [
    "Del b) Skriv et program som finner antall henvendelser for hver de 5 ukedagene. Resultatet\n",
    "visualiseres ved bruk av et søylediagram (stolpediagram)."
   ]
  },
  {
   "cell_type": "code",
   "execution_count": 104,
   "id": "74c26c25-53aa-4fe8-bb1c-93e97b823105",
   "metadata": {},
   "outputs": [
    {
     "data": {
      "image/png": "[encoded data removed]",
      "text/plain": [
       "<Figure size 640x480 with 1 Axes>"
      ]
     },
     "metadata": {},
     "output_type": "display_data"
    }
   ],
   "source": [
    "import matplotlib.pyplot as plt # Jeg henter inn matplotlib.pyplot for å kunne benytte det senere til grafikken\n",
    "from collections import Counter # Jeg henter inn Counter som er en funksjon for å telle for å kunne bruke denne senere\n",
    "\n",
    "# Lager en variabel som består av hvor mange registreringer som er per ukedag\n",
    "ukedag_telling = Counter(u_dag)\n",
    "# Counter er ikke gjennomgått i studiet, men jeg fant den ved egenstudie\n",
    "# Alternativt kunne jeg laget variabler, kjørt en sløyfe gjennom hele listen, og lagt til hver gang jeg fant en mandagshenvendelse etc\n",
    "\n",
    "# Regnearket vi fikk er allerede sortert, så alle mandagsregistreringene kommer først, så alle tirsdagstelefonene\n",
    "# Dersom disse ikke allerede var i rekkefølge, kan det hende jeg måtte sortert dem, men det slapp jeg\n",
    "\n",
    "# Lager en liste for ukedager, og en for antall telefonsamtaler\n",
    "ukedager = list(ukedag_telling.keys())\n",
    "antall = list(ukedag_telling.values())\n",
    "\n",
    "# Bruker matplotlib til å tegne opp et søylediagram med telefoner per dag\n",
    "plt.bar(ukedager, antall) # Setter aksene\n",
    "plt.title('Antall henvendelser per ukedag') # Overskrift på diagrammet\n",
    "plt.xlabel('Ukedag') # Hva som skal stå på X-aksen\n",
    "plt.ylabel('Antall henvendelser') # Hva som skal stå på Y-aksen\n",
    "plt.grid(axis='y') # Lager horisontale linjer, for å gjøre søylen litt enklere å lese (ikke nødvendig)\n",
    "\n"
   ]
  },
  {
   "cell_type": "markdown",
   "id": "b8141fbb-0342-44b2-bce9-864de618129d",
   "metadata": {},
   "source": [
    "Del c) Skriv et program som finner minste og lengste samtaletid som er loggført for uke 24.\n",
    "Svaret skrives til skjerm med informativ tekst."
   ]
  },
  {
   "cell_type": "code",
   "execution_count": 8,
   "id": "0ae876b2-4096-421c-aee0-2c780865db2a",
   "metadata": {},
   "outputs": [
    {
     "name": "stdout",
     "output_type": "stream",
     "text": [
      "Minste samtaletid var 00:00:59 minutter.\n",
      "Lengste samtaletid var 00:11:28 minutter.\n"
     ]
    }
   ],
   "source": [
    "from datetime import datetime # Importerer datetime for å kunne gjøre om formatet senere\n",
    "\n",
    "# Funksjon for å konvertere tid (hh:mm:ss) til sekunder\n",
    "# Dette var nødvendig, fordi jeg fikk ValueError \n",
    "# fordi Python prøvde å konvertere en tidsstreng (for eksempel '00:07:12') til et flyttall (float)\n",
    "\n",
    "def tid_til_sekunder(tid_str):\n",
    "    tid = datetime.strptime(tid_str, \"%H:%M:%S\")  # Konverterer tid til datetime-objekt\n",
    "    return tid.hour * 3600 + tid.minute * 60 + tid.second  # Konverterer til sekunder\n",
    "\n",
    "# Lager en variabel for korteste samtale \n",
    "# Lager en variabel for lengste samtale\n",
    "min_varighet = float('inf') #(setter den til en uendelig stor verdi, så alle andre verdier må være mindre)\n",
    "max_varighet = float('-inf') #(setter den til en uendelig lav verdi, så alle andre verdier må være større)\n",
    "\n",
    "# I denne oppgaven ville jeg normalt bruke min- og max- funksjon, men jeg velger å løse den vha\n",
    "# en while-løkke, for å vise at jeg behersker det (som gjennomgått i forelesningene).  \n",
    "# Valgte while-løkke fordi jeg i teorien ikke vet antall linjer\n",
    "index = 0 # Setter telleren til 0\n",
    "while index < len(varighet): # Kjør så lenge variabelen index er mindre enn lengden på listen varighet\n",
    "    tid = varighet[index] \n",
    "    sekunder = tid_til_sekunder(tid)  # Konverterer tid til sekunder og setter variabelen sekunder\n",
    "    \n",
    "    if sekunder < min_varighet: # Dersom sekunder er mindre enn den laveste verdien, kjøres neste linje (hvis ikke hopp videre)\n",
    "        min_varighet = sekunder # Sett min_varighet til verdien på sekunder\n",
    "    \n",
    "    if sekunder > max_varighet: # Dersom sekunder er større enn den høyeste, kjøres neste linje (hvis ikke hopp videre)\n",
    "        max_varighet = sekunder # Sett max_varighet til verdien på sekunder\n",
    "    \n",
    "    index += 1  # Øker index for å gå videre til neste element\n",
    "\n",
    "# Nå må jeg konvertere tilbake et mer leselig tidsformat (jeg har nå min og maks-verdiene i sekunder) \n",
    "# Lager 3 variabler for korteste samtale i timer, minutter og sekunder\n",
    "min_timer = min_varighet // 3600 # Bruker heltallsdivisjon for å finne hvor mange timer den korteste samtalen er på (1 time = 3600sek)\n",
    "min_minutter = (min_varighet % 3600) // 60 # Bruker heltallsdivisjon for å finne hvor mange minutter den korteste samtalen er på ( 1 min = 60sek)\n",
    "min_sekunder = min_varighet % 60 # Bruker modulusoperator for å vise hvor mange sekunder vi sitter igjen med etter operasjonene ovenfor\n",
    "\n",
    "# Bruker nå samme fremgangsmåte som over, men for lengste samtale (3 nye variabler)\n",
    "max_timer = max_varighet // 3600 \n",
    "max_minutter = (max_varighet % 3600) // 60\n",
    "max_sekunder = max_varighet % 60\n",
    "\n",
    "# Skriv ut resultatene i 'hh:mm:ss' format\n",
    "print(f\"Minste samtaletid var {min_timer:02}:{min_minutter:02}:{min_sekunder:02} minutter.\")\n",
    "print(f\"Lengste samtaletid var {max_timer:02}:{max_minutter:02}:{max_sekunder:02} minutter.\")\n"
   ]
  },
  {
   "cell_type": "code",
   "execution_count": 10,
   "id": "75e1c975-4510-4883-b0a1-4c45d93c5d3c",
   "metadata": {},
   "outputs": [
    {
     "name": "stdout",
     "output_type": "stream",
     "text": [
      "Minste samtaletid var 00:00:59 minutter på Tirsdag.\n",
      "Lengste samtaletid var 00:11:28 minutter på Fredag.\n"
     ]
    }
   ],
   "source": [
    "# Alternativ løsning på oppgave c) vha funksjonene min() og max()\n",
    "# Lager to variabler for lengste og korteste samtaletid\n",
    "min_varighet = min(varighet)\n",
    "max_varighet = max(varighet)\n",
    "\n",
    "# Det var ikke del av oppgavene å si hvilken dag det var på, men likevel...\n",
    "min_index = varighet.index(min_varighet)\n",
    "max_index = varighet.index(max_varighet)\n",
    "\n",
    "min_dag = u_dag[min_index]\n",
    "max_dag = u_dag[max_index]\n",
    "\n",
    "# Skriv ut resultatene med informativ tekst. \n",
    "print(f\"Minste samtaletid var {min_varighet} minutter på {min_dag}.\")\n",
    "print(f\"Lengste samtaletid var {max_varighet} minutter på {max_dag}.\")\n"
   ]
  },
  {
   "cell_type": "code",
   "execution_count": 72,
   "id": "6724cd2b-0d00-4b94-acbb-92292183f966",
   "metadata": {},
   "outputs": [
    {
     "name": "stdout",
     "output_type": "stream",
     "text": [
      "Gjennomsnittlig samtaletid er 00:06:40.\n"
     ]
    }
   ],
   "source": [
    "from datetime import datetime  # Importerer datetime for å kunne gjøre om formatet senere\n",
    "\n",
    "# Funksjon for å konvertere tid (hh:mm:ss) til sekunder (samme begrunnelse som i deloppgave c))\n",
    "def tid_til_sekunder(tid_str):\n",
    "    tid = datetime.strptime(tid_str, \"%H:%M:%S\")  # Konverterer tid til datetime-objekt\n",
    "    return tid.hour * 3600 + tid.minute * 60 + tid.second  # Konverterer til sekunder\n",
    "\n",
    "# Lager en variabel for total samtaletid, og setter den initielt til 0 \n",
    "total_samtaletid = 0\n",
    "\n",
    "# Går gjennom alle samtalene og legger sammen samtaletidene for å få total samtaletid\n",
    "for tid in varighet: # Her bruker jeg en for-løkke. Kunne også valgt while-løkke, men her ble det ryddigere med for...\n",
    "    total_samtaletid += tid_til_sekunder(tid) #legger tiden på linjen til total_samtaletid\n",
    "\n",
    "# Beregner gjennomsnittlig samtaletid i sekunder\n",
    "gjennomsnittlig_tid = total_samtaletid / len(varighet) # Her deler jeg totaltiden på len(varighet) som er antall linjer i listen varighet.\n",
    "\n",
    "# Konverterer gjennomsnittlig tid til timer, minutter og sekunder (samme fremgangsmåte som i deloppgave c))\n",
    "gjennomsnitt_timer = int(gjennomsnittlig_tid // 3600)\n",
    "gjennomsnitt_minutter = int((gjennomsnittlig_tid % 3600) // 60)\n",
    "gjennomsnitt_sekunder = int(gjennomsnittlig_tid % 60)\n",
    "\n",
    "# Skriv ut resultatet i 'hh:mm:ss' format\n",
    "print(f\"Gjennomsnittlig samtaletid er {gjennomsnitt_timer:02}:{gjennomsnitt_minutter:02}:{gjennomsnitt_sekunder:02}.\")\n"
   ]
  },
  {
   "cell_type": "code",
   "execution_count": null,
   "id": "96407a96-5a93-4b75-83bf-e8ecb83b440a",
   "metadata": {},
   "outputs": [],
   "source": [
    "Del e) Supportvaktene i MORSE er delt inn i 2-timers bolker: kl 08-10, kl 10-12, kl 12-14 og kl\n",
    "14-16. Skriv et program som finner det totale antall henvendelser supportavdelingen mottok\n",
    "for hver av tidsrommene 08-10, 10-12, 12-14 og 14-16 for uke 24. Resultatet visualiseres ved\n",
    "bruk av et sektordiagram (kakediagram)."
   ]
  },
  {
   "cell_type": "code",
   "execution_count": 74,
   "id": "8192ad31-9ef2-4176-b7ca-e601d95657be",
   "metadata": {},
   "outputs": [
    {
     "data": {
      "image/png": "[encoded data removed]",
      "text/plain": [
       "<Figure size 640x480 with 1 Axes>"
      ]
     },
     "metadata": {},
     "output_type": "display_data"
    }
   ],
   "source": [
    "import pandas as pd # Henter inn pandas for å kunne lese og jobbe med Excel-filen\n",
    "import matplotlib.pyplot as plt #  Henter inn matplotlib for å kunne lage grafikk etterpå\n",
    "\n",
    "# Leser inn Excel-filen\n",
    "filnavn = 'support_uke_24.xlsx' # Dette er ikke nødvendig om du har kjørt alle kodene ovenfor, men gjør ingen skade...\n",
    "df = pd.read_excel(filnavn,) # Henter filen. Denne fjerner automatisk første linje som er overskrift. \n",
    "# Evt kan man bruke header=none, så vil den ta med øverste linje også, men da må jeg fjerne den etterpå...\n",
    "\n",
    "# Henter ut klokkeslett-kolonnen (index 1) og konverterer til datetime med korrekt format\n",
    "klokkeslett_str = df['Klokkeslett'].astype(str) # Kan ta ut hele, fordi jeg fjernet øverste linje ovenfor\n",
    "klokkeslett = pd.to_datetime(klokkeslett_str, format='%H:%M:%S') # Gjør tidspunktet til det formatet jeg ønsker \n",
    "\n",
    "# Kode for å sjekke hvordan klokkeslettene ser ut. Denne kommenteres ut før innlevering\n",
    "# print(klokkeslett_str.head(10))\n",
    "\n",
    "# Lager en dictionary for tidsbolkene og setter tellerne til 0 på alle\n",
    "tidsbolker = {\n",
    "    '08-10': 0, \n",
    "    '10-12': 0,\n",
    "    '12-14': 0,\n",
    "    '14-16': 0\n",
    "}\n",
    "\n",
    "# Går gjennom listen for klokkeslett og teller opp hver gang vi kommer til et klokkeslett som passer med telleren\n",
    "# Jeg bruker for-løkke, fordi jeg vet lengden på listen jeg skal gjennomgå\n",
    "for tid in klokkeslett:\n",
    "    if 8 <= tid.hour < 10:\n",
    "        tidsbolker['08-10'] += 1 # Hvis tidspunktet tilfredsstiller kravet om å være mellom 8 og 10 telles telleren opp med 1\n",
    "    elif 10 <= tid.hour < 12:\n",
    "        tidsbolker['10-12'] += 1 # Hvis tidspunktet tilfredsstiller kravet om å være mellom 10 og 12 telles telleren opp med 1\n",
    "    elif 12 <= tid.hour < 14:\n",
    "        tidsbolker['12-14'] += 1 # Hvis tidspunktet tilfredsstiller kravet om å være mellom 12 og 14 telles telleren opp med 1\n",
    "    elif 14 <= tid.hour < 16:\n",
    "        tidsbolker['14-16'] += 1 # Hvis tidspunktet tilfredsstiller kravet om å være mellom 14 og 16 telles telleren opp med 1\n",
    "\n",
    "\n",
    "\n",
    "# Plotter kakediagram\n",
    "labels = list(tidsbolker.keys()) # Henter navnet (key) fra dictionaryen \"tidsbolker\"\n",
    "sizes = [tidsbolker[key] for key in labels] # Lager en liste som heter sizes som inneholder navnet på bolken (key) og telleren (antallet)\n",
    "\n",
    "plt.pie(sizes, labels=labels, autopct='%1.1f%%') # Printer et paidiagram. sizes er hvilke verdier som skal vises. \n",
    "# labels er for å vise bolkene (f.eks. 8-10) utenfor diagrammet, og autpct er for å vise verdien inne i paidiagrammet.\n",
    "# formatet 1.1 er for å vise hvor mange desimaler man skal ha (1 ville gitt masse desimaler), og til slutt et %-tegn\n",
    "plt.title('Antall henvendelser per tidsbolk') # Printer overskrift på diagrammet\n",
    "plt.axis('equal') # Denne sikrer at det blir en sirkel. Det fungerer uten denne linjen, men jeg fikk en ellipse uten den...\n",
    "plt.show() # Denne har jeg ikke funnet nødvendig, men i cheat sheet sto det at det var lurt å ha den med, for å sikre at \n",
    "# diagrammet printes i alle miljøer. I Jupyter Notebook printes det uansett...\n"
   ]
  },
  {
   "cell_type": "markdown",
   "id": "702bf257-bf73-4566-90bb-68d592ab9856",
   "metadata": {},
   "source": [
    "Del f) Kundens tilfredshet loggføres som tall fra 1-10 hvor 1 indikerer svært misfornøyd og\n",
    "10 indikerer svært fornøyd. Disse tilbakemeldingene skal så overføres til NPS-systemet (Net\n",
    "Promoter Score).\n",
    "NPS-systemet er konstruert på følgende måte:\n",
    "Score 1-6 oppfattes som at kunden er negativ (vil trolig ikke anbefale MORSE til andre).\n",
    "Score 7-8 oppfattes som et nøytralt svar.\n",
    "Score 9-10 oppfattes som at kunden er positiv (vil trolig anbefale MORSE til andre).\n",
    "Supportavdelingens NPS beregnes som et tall, prosentandelen positive kunder minus\n",
    "prosentandelen negative kunder. Ved en formel kan dette gis slik:\n",
    "NPS = % positive kunder - % negative kunder\n",
    "Lag et program som regner ut supportavdelings NPS og skriver svaret til skjerm. Merk:\n",
    "Kunder som ikke har gitt tilbakemelding på tilfredshet, skal utelates fra utregningene."
   ]
  },
  {
   "cell_type": "code",
   "execution_count": 98,
   "id": "646f66f1-7aaf-4a2b-a559-3c9adc4caf10",
   "metadata": {},
   "outputs": [
    {
     "name": "stdout",
     "output_type": "stream",
     "text": [
      "NPS (Net Promoter Score) for denne uken er 41.86\n",
      "Merk at NPS ikke tar med de som ikke har svart, eller som har svart at de er nøytralt fornøyd\n"
     ]
    }
   ],
   "source": [
    "import pandas as pd # Henter inn pandas for å kunne lese og jobbe med Excel-filen\n",
    "\n",
    "# Leser inn Excel-filen\n",
    "filnavn = 'support_uke_24.xlsx' # Dette er ikke nødvendig om du har kjørt alle kodene ovenfor, men gjør ingen skade...\n",
    "df = pd.read_excel(filnavn)\n",
    "\n",
    "# Lager en serie med bruker dropna-funksjon fra pandas. Den fjerner alle linjer som er tomme. Kunne evt ha brukt samme metode som i forrige, der jeg laget\n",
    "# en dictionary, men nå gjør jeg det sånn...\n",
    "valid_scores = df['Tilfredshet'].dropna() \n",
    "\n",
    "# Printer valid_scores for å sjekke hvordan den ser ut. Denne kommenteres ut før innlevering\n",
    "#print(valid_scores)\n",
    "\n",
    "# Deler opp i gruppene negative og positive\n",
    "negative = valid_scores[valid_scores <= 6]  # score 1-6 er negative\n",
    "positive = valid_scores[valid_scores >= 9]  # score 9-10 er positive\n",
    "\n",
    "# Printer ut de 2 gruppene. Denne kommenteres ut før innlevering\n",
    "#print(positive)\n",
    "#print(negative)\n",
    "\n",
    "# Beregner hvor mange prosent av de totalt besvarte for de 2 gruppene\n",
    "total_responses = len(valid_scores)  # Totalt antall svar er lengden på listen valid_scores\n",
    "negative_percentage = len(negative) / total_responses * 100  # Prosentandel negative er antall negative delt på antall totalt\n",
    "positive_percentage = len(positive) / total_responses * 100  # Prosentandel positive er antall positive delt på antall totalt\n",
    "\n",
    "# Beregn NPS slik det står i oppgaven\n",
    "NPS = positive_percentage - negative_percentage #prosentandel positive minus prosentandel negative\n",
    "\n",
    "# Skriv ut resultatene\n",
    "#print(f\"Negative kunder: {negative_percentage:.2f}%\") # Ikke del av oppgaven - kommenteres ut\n",
    "#print(f\"Positive kunder: {positive_percentage:.2f}%\") # Ikke del av oppgaven - kommenteres ut\n",
    "print(f\"NPS (Net Promoter Score) for denne uken er {NPS:.2f}\") # Skriver ut tekst og svaret\n",
    "print(\"Merk at NPS ikke tar med de som ikke har svart, eller som har svart at de er nøytralt fornøyd\")\n",
    "\n"
   ]
  },
  {
   "cell_type": "markdown",
   "id": "5446286c-4eb8-498d-84bc-77642bc222b8",
   "metadata": {},
   "source": [
    "Kilde til funksjoner\n",
    "Python cheat sheet: https://gto76.github.io/python-cheatsheet/"
   ]
  }
 ],
 "metadata": {
  "kernelspec": {
   "display_name": "Python 3 (ipykernel)",
   "language": "python",
   "name": "python3"
  },
  "language_info": {
   "codemirror_mode": {
    "name": "ipython",
    "version": 3
   },
   "file_extension": ".py",
   "mimetype": "text/x-python",
   "name": "python",
   "nbconvert_exporter": "python",
   "pygments_lexer": "ipython3",
   "version": "3.12.4"
  }
 },
 "nbformat": 4,
 "nbformat_minor": 5
}
